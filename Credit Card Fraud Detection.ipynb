{
 "cells": [
  {
   "cell_type": "markdown",
   "metadata": {},
   "source": [
    "##### Author: Vincent Yeo\n",
    "\n",
    "### Credit Card Fraud Detection\n",
    "\n",
    "#### Background:\n",
    "As a credit card company, it is important to offer consumer protection against fradulent transaction so that consumers don't pay for purchases that they did not make.\n",
    "\n",
    "\n",
    "#### Dataset\n",
    "+ by Machine Learning Group - ULB at [Kaggle](https://www.kaggle.com/mlg-ulb/creditcardfraud#creditcard.csv)\n",
    "\n",
    "#### Task:\n",
    "\n",
    "Classify which transaction is fradulent."
   ]
  },
  {
   "cell_type": "code",
   "execution_count": 73,
   "metadata": {},
   "outputs": [],
   "source": [
    "import os\n",
    "\n",
    "import pandas as pd\n",
    "import numpy as np\n",
    "import matplotlib.pyplot as plt\n",
    "import seaborn as sns\n",
    "\n",
    "import warnings \n",
    "warnings.filterwarnings(\"ignore\")"
   ]
  },
  {
   "cell_type": "code",
   "execution_count": 3,
   "metadata": {},
   "outputs": [
    {
     "data": {
      "text/html": [
       "<div>\n",
       "<style scoped>\n",
       "    .dataframe tbody tr th:only-of-type {\n",
       "        vertical-align: middle;\n",
       "    }\n",
       "\n",
       "    .dataframe tbody tr th {\n",
       "        vertical-align: top;\n",
       "    }\n",
       "\n",
       "    .dataframe thead th {\n",
       "        text-align: right;\n",
       "    }\n",
       "</style>\n",
       "<table border=\"1\" class=\"dataframe\">\n",
       "  <thead>\n",
       "    <tr style=\"text-align: right;\">\n",
       "      <th></th>\n",
       "      <th>Time</th>\n",
       "      <th>V1</th>\n",
       "      <th>V2</th>\n",
       "      <th>V3</th>\n",
       "      <th>V4</th>\n",
       "      <th>V5</th>\n",
       "      <th>V6</th>\n",
       "      <th>V7</th>\n",
       "      <th>V8</th>\n",
       "      <th>V9</th>\n",
       "      <th>...</th>\n",
       "      <th>V21</th>\n",
       "      <th>V22</th>\n",
       "      <th>V23</th>\n",
       "      <th>V24</th>\n",
       "      <th>V25</th>\n",
       "      <th>V26</th>\n",
       "      <th>V27</th>\n",
       "      <th>V28</th>\n",
       "      <th>Amount</th>\n",
       "      <th>Class</th>\n",
       "    </tr>\n",
       "  </thead>\n",
       "  <tbody>\n",
       "    <tr>\n",
       "      <th>0</th>\n",
       "      <td>0.0</td>\n",
       "      <td>-1.359807</td>\n",
       "      <td>-0.072781</td>\n",
       "      <td>2.536347</td>\n",
       "      <td>1.378155</td>\n",
       "      <td>-0.338321</td>\n",
       "      <td>0.462388</td>\n",
       "      <td>0.239599</td>\n",
       "      <td>0.098698</td>\n",
       "      <td>0.363787</td>\n",
       "      <td>...</td>\n",
       "      <td>-0.018307</td>\n",
       "      <td>0.277838</td>\n",
       "      <td>-0.110474</td>\n",
       "      <td>0.066928</td>\n",
       "      <td>0.128539</td>\n",
       "      <td>-0.189115</td>\n",
       "      <td>0.133558</td>\n",
       "      <td>-0.021053</td>\n",
       "      <td>149.62</td>\n",
       "      <td>0</td>\n",
       "    </tr>\n",
       "    <tr>\n",
       "      <th>1</th>\n",
       "      <td>0.0</td>\n",
       "      <td>1.191857</td>\n",
       "      <td>0.266151</td>\n",
       "      <td>0.166480</td>\n",
       "      <td>0.448154</td>\n",
       "      <td>0.060018</td>\n",
       "      <td>-0.082361</td>\n",
       "      <td>-0.078803</td>\n",
       "      <td>0.085102</td>\n",
       "      <td>-0.255425</td>\n",
       "      <td>...</td>\n",
       "      <td>-0.225775</td>\n",
       "      <td>-0.638672</td>\n",
       "      <td>0.101288</td>\n",
       "      <td>-0.339846</td>\n",
       "      <td>0.167170</td>\n",
       "      <td>0.125895</td>\n",
       "      <td>-0.008983</td>\n",
       "      <td>0.014724</td>\n",
       "      <td>2.69</td>\n",
       "      <td>0</td>\n",
       "    </tr>\n",
       "    <tr>\n",
       "      <th>2</th>\n",
       "      <td>1.0</td>\n",
       "      <td>-1.358354</td>\n",
       "      <td>-1.340163</td>\n",
       "      <td>1.773209</td>\n",
       "      <td>0.379780</td>\n",
       "      <td>-0.503198</td>\n",
       "      <td>1.800499</td>\n",
       "      <td>0.791461</td>\n",
       "      <td>0.247676</td>\n",
       "      <td>-1.514654</td>\n",
       "      <td>...</td>\n",
       "      <td>0.247998</td>\n",
       "      <td>0.771679</td>\n",
       "      <td>0.909412</td>\n",
       "      <td>-0.689281</td>\n",
       "      <td>-0.327642</td>\n",
       "      <td>-0.139097</td>\n",
       "      <td>-0.055353</td>\n",
       "      <td>-0.059752</td>\n",
       "      <td>378.66</td>\n",
       "      <td>0</td>\n",
       "    </tr>\n",
       "    <tr>\n",
       "      <th>3</th>\n",
       "      <td>1.0</td>\n",
       "      <td>-0.966272</td>\n",
       "      <td>-0.185226</td>\n",
       "      <td>1.792993</td>\n",
       "      <td>-0.863291</td>\n",
       "      <td>-0.010309</td>\n",
       "      <td>1.247203</td>\n",
       "      <td>0.237609</td>\n",
       "      <td>0.377436</td>\n",
       "      <td>-1.387024</td>\n",
       "      <td>...</td>\n",
       "      <td>-0.108300</td>\n",
       "      <td>0.005274</td>\n",
       "      <td>-0.190321</td>\n",
       "      <td>-1.175575</td>\n",
       "      <td>0.647376</td>\n",
       "      <td>-0.221929</td>\n",
       "      <td>0.062723</td>\n",
       "      <td>0.061458</td>\n",
       "      <td>123.50</td>\n",
       "      <td>0</td>\n",
       "    </tr>\n",
       "    <tr>\n",
       "      <th>4</th>\n",
       "      <td>2.0</td>\n",
       "      <td>-1.158233</td>\n",
       "      <td>0.877737</td>\n",
       "      <td>1.548718</td>\n",
       "      <td>0.403034</td>\n",
       "      <td>-0.407193</td>\n",
       "      <td>0.095921</td>\n",
       "      <td>0.592941</td>\n",
       "      <td>-0.270533</td>\n",
       "      <td>0.817739</td>\n",
       "      <td>...</td>\n",
       "      <td>-0.009431</td>\n",
       "      <td>0.798278</td>\n",
       "      <td>-0.137458</td>\n",
       "      <td>0.141267</td>\n",
       "      <td>-0.206010</td>\n",
       "      <td>0.502292</td>\n",
       "      <td>0.219422</td>\n",
       "      <td>0.215153</td>\n",
       "      <td>69.99</td>\n",
       "      <td>0</td>\n",
       "    </tr>\n",
       "  </tbody>\n",
       "</table>\n",
       "<p>5 rows × 31 columns</p>\n",
       "</div>"
      ],
      "text/plain": [
       "   Time        V1        V2        V3        V4        V5        V6        V7  \\\n",
       "0   0.0 -1.359807 -0.072781  2.536347  1.378155 -0.338321  0.462388  0.239599   \n",
       "1   0.0  1.191857  0.266151  0.166480  0.448154  0.060018 -0.082361 -0.078803   \n",
       "2   1.0 -1.358354 -1.340163  1.773209  0.379780 -0.503198  1.800499  0.791461   \n",
       "3   1.0 -0.966272 -0.185226  1.792993 -0.863291 -0.010309  1.247203  0.237609   \n",
       "4   2.0 -1.158233  0.877737  1.548718  0.403034 -0.407193  0.095921  0.592941   \n",
       "\n",
       "         V8        V9  ...       V21       V22       V23       V24       V25  \\\n",
       "0  0.098698  0.363787  ... -0.018307  0.277838 -0.110474  0.066928  0.128539   \n",
       "1  0.085102 -0.255425  ... -0.225775 -0.638672  0.101288 -0.339846  0.167170   \n",
       "2  0.247676 -1.514654  ...  0.247998  0.771679  0.909412 -0.689281 -0.327642   \n",
       "3  0.377436 -1.387024  ... -0.108300  0.005274 -0.190321 -1.175575  0.647376   \n",
       "4 -0.270533  0.817739  ... -0.009431  0.798278 -0.137458  0.141267 -0.206010   \n",
       "\n",
       "        V26       V27       V28  Amount  Class  \n",
       "0 -0.189115  0.133558 -0.021053  149.62      0  \n",
       "1  0.125895 -0.008983  0.014724    2.69      0  \n",
       "2 -0.139097 -0.055353 -0.059752  378.66      0  \n",
       "3 -0.221929  0.062723  0.061458  123.50      0  \n",
       "4  0.502292  0.219422  0.215153   69.99      0  \n",
       "\n",
       "[5 rows x 31 columns]"
      ]
     },
     "execution_count": 3,
     "metadata": {},
     "output_type": "execute_result"
    }
   ],
   "source": [
    "df = pd.read_csv(os.getcwd() + '/data/creditcard.csv')\n",
    "df.head()"
   ]
  },
  {
   "cell_type": "code",
   "execution_count": 4,
   "metadata": {},
   "outputs": [
    {
     "data": {
      "text/html": [
       "<div>\n",
       "<style scoped>\n",
       "    .dataframe tbody tr th:only-of-type {\n",
       "        vertical-align: middle;\n",
       "    }\n",
       "\n",
       "    .dataframe tbody tr th {\n",
       "        vertical-align: top;\n",
       "    }\n",
       "\n",
       "    .dataframe thead th {\n",
       "        text-align: right;\n",
       "    }\n",
       "</style>\n",
       "<table border=\"1\" class=\"dataframe\">\n",
       "  <thead>\n",
       "    <tr style=\"text-align: right;\">\n",
       "      <th></th>\n",
       "      <th>Time</th>\n",
       "      <th>V1</th>\n",
       "      <th>V2</th>\n",
       "      <th>V3</th>\n",
       "      <th>V4</th>\n",
       "      <th>V5</th>\n",
       "      <th>V6</th>\n",
       "      <th>V7</th>\n",
       "      <th>V8</th>\n",
       "      <th>V9</th>\n",
       "      <th>...</th>\n",
       "      <th>V21</th>\n",
       "      <th>V22</th>\n",
       "      <th>V23</th>\n",
       "      <th>V24</th>\n",
       "      <th>V25</th>\n",
       "      <th>V26</th>\n",
       "      <th>V27</th>\n",
       "      <th>V28</th>\n",
       "      <th>Amount</th>\n",
       "      <th>Class</th>\n",
       "    </tr>\n",
       "  </thead>\n",
       "  <tbody>\n",
       "    <tr>\n",
       "      <th>284802</th>\n",
       "      <td>172786.0</td>\n",
       "      <td>-11.881118</td>\n",
       "      <td>10.071785</td>\n",
       "      <td>-9.834783</td>\n",
       "      <td>-2.066656</td>\n",
       "      <td>-5.364473</td>\n",
       "      <td>-2.606837</td>\n",
       "      <td>-4.918215</td>\n",
       "      <td>7.305334</td>\n",
       "      <td>1.914428</td>\n",
       "      <td>...</td>\n",
       "      <td>0.213454</td>\n",
       "      <td>0.111864</td>\n",
       "      <td>1.014480</td>\n",
       "      <td>-0.509348</td>\n",
       "      <td>1.436807</td>\n",
       "      <td>0.250034</td>\n",
       "      <td>0.943651</td>\n",
       "      <td>0.823731</td>\n",
       "      <td>0.77</td>\n",
       "      <td>0</td>\n",
       "    </tr>\n",
       "    <tr>\n",
       "      <th>284803</th>\n",
       "      <td>172787.0</td>\n",
       "      <td>-0.732789</td>\n",
       "      <td>-0.055080</td>\n",
       "      <td>2.035030</td>\n",
       "      <td>-0.738589</td>\n",
       "      <td>0.868229</td>\n",
       "      <td>1.058415</td>\n",
       "      <td>0.024330</td>\n",
       "      <td>0.294869</td>\n",
       "      <td>0.584800</td>\n",
       "      <td>...</td>\n",
       "      <td>0.214205</td>\n",
       "      <td>0.924384</td>\n",
       "      <td>0.012463</td>\n",
       "      <td>-1.016226</td>\n",
       "      <td>-0.606624</td>\n",
       "      <td>-0.395255</td>\n",
       "      <td>0.068472</td>\n",
       "      <td>-0.053527</td>\n",
       "      <td>24.79</td>\n",
       "      <td>0</td>\n",
       "    </tr>\n",
       "    <tr>\n",
       "      <th>284804</th>\n",
       "      <td>172788.0</td>\n",
       "      <td>1.919565</td>\n",
       "      <td>-0.301254</td>\n",
       "      <td>-3.249640</td>\n",
       "      <td>-0.557828</td>\n",
       "      <td>2.630515</td>\n",
       "      <td>3.031260</td>\n",
       "      <td>-0.296827</td>\n",
       "      <td>0.708417</td>\n",
       "      <td>0.432454</td>\n",
       "      <td>...</td>\n",
       "      <td>0.232045</td>\n",
       "      <td>0.578229</td>\n",
       "      <td>-0.037501</td>\n",
       "      <td>0.640134</td>\n",
       "      <td>0.265745</td>\n",
       "      <td>-0.087371</td>\n",
       "      <td>0.004455</td>\n",
       "      <td>-0.026561</td>\n",
       "      <td>67.88</td>\n",
       "      <td>0</td>\n",
       "    </tr>\n",
       "    <tr>\n",
       "      <th>284805</th>\n",
       "      <td>172788.0</td>\n",
       "      <td>-0.240440</td>\n",
       "      <td>0.530483</td>\n",
       "      <td>0.702510</td>\n",
       "      <td>0.689799</td>\n",
       "      <td>-0.377961</td>\n",
       "      <td>0.623708</td>\n",
       "      <td>-0.686180</td>\n",
       "      <td>0.679145</td>\n",
       "      <td>0.392087</td>\n",
       "      <td>...</td>\n",
       "      <td>0.265245</td>\n",
       "      <td>0.800049</td>\n",
       "      <td>-0.163298</td>\n",
       "      <td>0.123205</td>\n",
       "      <td>-0.569159</td>\n",
       "      <td>0.546668</td>\n",
       "      <td>0.108821</td>\n",
       "      <td>0.104533</td>\n",
       "      <td>10.00</td>\n",
       "      <td>0</td>\n",
       "    </tr>\n",
       "    <tr>\n",
       "      <th>284806</th>\n",
       "      <td>172792.0</td>\n",
       "      <td>-0.533413</td>\n",
       "      <td>-0.189733</td>\n",
       "      <td>0.703337</td>\n",
       "      <td>-0.506271</td>\n",
       "      <td>-0.012546</td>\n",
       "      <td>-0.649617</td>\n",
       "      <td>1.577006</td>\n",
       "      <td>-0.414650</td>\n",
       "      <td>0.486180</td>\n",
       "      <td>...</td>\n",
       "      <td>0.261057</td>\n",
       "      <td>0.643078</td>\n",
       "      <td>0.376777</td>\n",
       "      <td>0.008797</td>\n",
       "      <td>-0.473649</td>\n",
       "      <td>-0.818267</td>\n",
       "      <td>-0.002415</td>\n",
       "      <td>0.013649</td>\n",
       "      <td>217.00</td>\n",
       "      <td>0</td>\n",
       "    </tr>\n",
       "  </tbody>\n",
       "</table>\n",
       "<p>5 rows × 31 columns</p>\n",
       "</div>"
      ],
      "text/plain": [
       "            Time         V1         V2        V3        V4        V5  \\\n",
       "284802  172786.0 -11.881118  10.071785 -9.834783 -2.066656 -5.364473   \n",
       "284803  172787.0  -0.732789  -0.055080  2.035030 -0.738589  0.868229   \n",
       "284804  172788.0   1.919565  -0.301254 -3.249640 -0.557828  2.630515   \n",
       "284805  172788.0  -0.240440   0.530483  0.702510  0.689799 -0.377961   \n",
       "284806  172792.0  -0.533413  -0.189733  0.703337 -0.506271 -0.012546   \n",
       "\n",
       "              V6        V7        V8        V9  ...       V21       V22  \\\n",
       "284802 -2.606837 -4.918215  7.305334  1.914428  ...  0.213454  0.111864   \n",
       "284803  1.058415  0.024330  0.294869  0.584800  ...  0.214205  0.924384   \n",
       "284804  3.031260 -0.296827  0.708417  0.432454  ...  0.232045  0.578229   \n",
       "284805  0.623708 -0.686180  0.679145  0.392087  ...  0.265245  0.800049   \n",
       "284806 -0.649617  1.577006 -0.414650  0.486180  ...  0.261057  0.643078   \n",
       "\n",
       "             V23       V24       V25       V26       V27       V28  Amount  \\\n",
       "284802  1.014480 -0.509348  1.436807  0.250034  0.943651  0.823731    0.77   \n",
       "284803  0.012463 -1.016226 -0.606624 -0.395255  0.068472 -0.053527   24.79   \n",
       "284804 -0.037501  0.640134  0.265745 -0.087371  0.004455 -0.026561   67.88   \n",
       "284805 -0.163298  0.123205 -0.569159  0.546668  0.108821  0.104533   10.00   \n",
       "284806  0.376777  0.008797 -0.473649 -0.818267 -0.002415  0.013649  217.00   \n",
       "\n",
       "        Class  \n",
       "284802      0  \n",
       "284803      0  \n",
       "284804      0  \n",
       "284805      0  \n",
       "284806      0  \n",
       "\n",
       "[5 rows x 31 columns]"
      ]
     },
     "execution_count": 4,
     "metadata": {},
     "output_type": "execute_result"
    }
   ],
   "source": [
    "df.tail()"
   ]
  },
  {
   "cell_type": "markdown",
   "metadata": {},
   "source": [
    "Below is a table describing each variable:\n",
    "\n",
    "|Variable | Description|\n",
    "|----------|-------------|\n",
    "|Time| Time elapsed between observed transaction and the first transaction in the dataset in seconds |\n",
    "|V1-V28| Principal Components of features \"to protect user identities and sensitive features\" |\n",
    "|Amount| The amount transacted using the credit card\n",
    "| Class | The target variable (1 for fraud, 0 otherwise)"
   ]
  },
  {
   "cell_type": "markdown",
   "metadata": {},
   "source": [
    "#### Exploratory Data Analysis"
   ]
  },
  {
   "cell_type": "code",
   "execution_count": 5,
   "metadata": {},
   "outputs": [
    {
     "name": "stdout",
     "output_type": "stream",
     "text": [
      "<class 'pandas.core.frame.DataFrame'>\n",
      "RangeIndex: 284807 entries, 0 to 284806\n",
      "Data columns (total 31 columns):\n",
      "Time      284807 non-null float64\n",
      "V1        284807 non-null float64\n",
      "V2        284807 non-null float64\n",
      "V3        284807 non-null float64\n",
      "V4        284807 non-null float64\n",
      "V5        284807 non-null float64\n",
      "V6        284807 non-null float64\n",
      "V7        284807 non-null float64\n",
      "V8        284807 non-null float64\n",
      "V9        284807 non-null float64\n",
      "V10       284807 non-null float64\n",
      "V11       284807 non-null float64\n",
      "V12       284807 non-null float64\n",
      "V13       284807 non-null float64\n",
      "V14       284807 non-null float64\n",
      "V15       284807 non-null float64\n",
      "V16       284807 non-null float64\n",
      "V17       284807 non-null float64\n",
      "V18       284807 non-null float64\n",
      "V19       284807 non-null float64\n",
      "V20       284807 non-null float64\n",
      "V21       284807 non-null float64\n",
      "V22       284807 non-null float64\n",
      "V23       284807 non-null float64\n",
      "V24       284807 non-null float64\n",
      "V25       284807 non-null float64\n",
      "V26       284807 non-null float64\n",
      "V27       284807 non-null float64\n",
      "V28       284807 non-null float64\n",
      "Amount    284807 non-null float64\n",
      "Class     284807 non-null int64\n",
      "dtypes: float64(30), int64(1)\n",
      "memory usage: 67.4 MB\n"
     ]
    }
   ],
   "source": [
    "df.info()\n",
    "# There are no missing data since dataset has been treated with PCA"
   ]
  },
  {
   "cell_type": "code",
   "execution_count": 6,
   "metadata": {},
   "outputs": [
    {
     "data": {
      "text/plain": [
       "count    284807.000000\n",
       "mean      94813.859575\n",
       "std       47488.145955\n",
       "min           0.000000\n",
       "25%       54201.500000\n",
       "50%       84692.000000\n",
       "75%      139320.500000\n",
       "max      172792.000000\n",
       "Name: Time, dtype: float64"
      ]
     },
     "execution_count": 6,
     "metadata": {},
     "output_type": "execute_result"
    }
   ],
   "source": [
    "df['Time'].describe()"
   ]
  },
  {
   "cell_type": "code",
   "execution_count": 7,
   "metadata": {},
   "outputs": [
    {
     "data": {
      "text/plain": [
       "count    284807.000000\n",
       "mean         88.349619\n",
       "std         250.120109\n",
       "min           0.000000\n",
       "25%           5.600000\n",
       "50%          22.000000\n",
       "75%          77.165000\n",
       "max       25691.160000\n",
       "Name: Amount, dtype: float64"
      ]
     },
     "execution_count": 7,
     "metadata": {},
     "output_type": "execute_result"
    }
   ],
   "source": [
    "df['Amount'].describe()\n",
    "# The average transaction is $88"
   ]
  },
  {
   "cell_type": "code",
   "execution_count": 8,
   "metadata": {},
   "outputs": [
    {
     "data": {
      "text/plain": [
       "count    284807.000000\n",
       "mean          0.001727\n",
       "std           0.041527\n",
       "min           0.000000\n",
       "25%           0.000000\n",
       "50%           0.000000\n",
       "75%           0.000000\n",
       "max           1.000000\n",
       "Name: Class, dtype: float64"
      ]
     },
     "execution_count": 8,
     "metadata": {},
     "output_type": "execute_result"
    }
   ],
   "source": [
    "df['Class'].describe()\n",
    "# Labels are correct"
   ]
  },
  {
   "cell_type": "markdown",
   "metadata": {},
   "source": [
    "We are told that\n",
    "+  There are 492 frauds out of 284,807 transactions. \n",
    "+ Thus, the dataset is highly unbalanced, the positive class (frauds) account for 0.172% of all transactions.\n",
    "\n",
    "Now to visualize it"
   ]
  },
  {
   "cell_type": "code",
   "execution_count": 8,
   "metadata": {},
   "outputs": [
    {
     "name": "stdout",
     "output_type": "stream",
     "text": [
      "   Class   Count\n",
      "0      0  284315\n",
      "1      1     492\n"
     ]
    },
    {
     "data": {
      "text/plain": [
       "<seaborn.axisgrid.FacetGrid at 0x1063eb050>"
      ]
     },
     "execution_count": 8,
     "metadata": {},
     "output_type": "execute_result"
    },
    {
     "data": {
      "image/png": "[encoded data removed]",
      "text/plain": [
       "<Figure size 360x360 with 1 Axes>"
      ]
     },
     "metadata": {
      "needs_background": "light"
     },
     "output_type": "display_data"
    }
   ],
   "source": [
    "count = df[['Class', 'V1']].groupby('Class').count().reset_index()\n",
    "count.columns = ['Class', 'Count']\n",
    "print(count)\n",
    "sns.catplot(x='Class', y='Count', data=count, kind='bar')\n",
    "# So we need to handle this imbalanced dataset using either oversampling or undersampling techniques"
   ]
  },
  {
   "cell_type": "code",
   "execution_count": 9,
   "metadata": {},
   "outputs": [
    {
     "data": {
      "text/plain": [
       "<matplotlib.axes._subplots.AxesSubplot at 0x10aeddc10>"
      ]
     },
     "execution_count": 9,
     "metadata": {},
     "output_type": "execute_result"
    },
    {
     "data": {
      "image/png": "[encoded data removed]",
      "text/plain": [
       "<Figure size 432x288 with 1 Axes>"
      ]
     },
     "metadata": {
      "needs_background": "light"
     },
     "output_type": "display_data"
    }
   ],
   "source": [
    "# Distribution of Time\n",
    "sns.distplot(df[['Time']])\n",
    "# Both normal and fraudulent time"
   ]
  },
  {
   "cell_type": "code",
   "execution_count": 10,
   "metadata": {},
   "outputs": [
    {
     "data": {
      "text/plain": [
       "<seaborn.axisgrid.FacetGrid at 0x1a1f7826d0>"
      ]
     },
     "execution_count": 10,
     "metadata": {},
     "output_type": "execute_result"
    },
    {
     "data": {
      "image/png": "[encoded data removed]",
      "text/plain": [
       "<Figure size 720x360 with 2 Axes>"
      ]
     },
     "metadata": {
      "needs_background": "light"
     },
     "output_type": "display_data"
    }
   ],
   "source": [
    "sns.catplot(x='Time', col='Class', data=df, kind='box', orient='v')"
   ]
  },
  {
   "cell_type": "code",
   "execution_count": 11,
   "metadata": {},
   "outputs": [
    {
     "data": {
      "image/png": "[encoded data removed]",
      "text/plain": [
       "<Figure size 1080x576 with 2 Axes>"
      ]
     },
     "metadata": {
      "needs_background": "light"
     },
     "output_type": "display_data"
    }
   ],
   "source": [
    "fig, ax = plt.subplots(ncols=2, figsize=(15,8))\n",
    "sns.distplot(df.loc[df['Class'] == 0]['Time'], ax=ax[0], color='blue').set_title('Distribution of Time for Normal Transaction')\n",
    "sns.distplot(df.loc[df['Class'] == 1]['Time'], ax=ax[1], color='red').set_title('Distribution of Time for Fraudulent Transaction')\n",
    "fig.legend(labels=['Normal','Fraudulent'])\n",
    "\n",
    "plt.show()"
   ]
  },
  {
   "cell_type": "code",
   "execution_count": 12,
   "metadata": {},
   "outputs": [
    {
     "data": {
      "text/plain": [
       "<matplotlib.axes._subplots.AxesSubplot at 0x1a1f4616d0>"
      ]
     },
     "execution_count": 12,
     "metadata": {},
     "output_type": "execute_result"
    },
    {
     "data": {
      "image/png": "[encoded data removed]",
      "text/plain": [
       "<Figure size 432x288 with 1 Axes>"
      ]
     },
     "metadata": {
      "needs_background": "light"
     },
     "output_type": "display_data"
    }
   ],
   "source": [
    "# Distribution of Amount\n",
    "sns.distplot(df[['Amount']])"
   ]
  },
  {
   "cell_type": "code",
   "execution_count": 13,
   "metadata": {},
   "outputs": [
    {
     "data": {
      "image/png": "[encoded data removed]",
      "text/plain": [
       "<Figure size 1080x576 with 2 Axes>"
      ]
     },
     "metadata": {
      "needs_background": "light"
     },
     "output_type": "display_data"
    }
   ],
   "source": [
    "fig, ax = plt.subplots(ncols=2, figsize=(15,8))\n",
    "sns.distplot(df.loc[df['Class'] == 0]['Amount'], ax=ax[0], color='blue').set_title('Distribution of Amount for Normal Transaction')\n",
    "sns.distplot(df.loc[df['Class'] == 1]['Amount'], ax=ax[1], color='red').set_title('Distribution of Amount for Fraudulent Transaction')\n",
    "fig.legend(labels=['Normal','Fraudulent'])\n",
    "\n",
    "plt.show()"
   ]
  },
  {
   "cell_type": "markdown",
   "metadata": {},
   "source": [
    "#### Model Building and Evaluation"
   ]
  },
  {
   "cell_type": "code",
   "execution_count": 62,
   "metadata": {},
   "outputs": [],
   "source": [
    "from imblearn.over_sampling import SMOTE\n",
    "from imblearn.under_sampling import RandomUnderSampler\n",
    "from sklearn.model_selection import train_test_split, KFold\n"
   ]
  },
  {
   "cell_type": "markdown",
   "metadata": {},
   "source": [
    "##### Data Preparation"
   ]
  },
  {
   "cell_type": "code",
   "execution_count": 15,
   "metadata": {},
   "outputs": [
    {
     "name": "stdout",
     "output_type": "stream",
     "text": [
      "(284807, 30)\n",
      "(284807, 1)\n"
     ]
    }
   ],
   "source": [
    "X = df[df.columns[:-1]]\n",
    "y = df[['Class']]\n",
    "\n",
    "print(X.shape)\n",
    "print(y.shape)"
   ]
  },
  {
   "cell_type": "code",
   "execution_count": 16,
   "metadata": {},
   "outputs": [],
   "source": [
    "X_train, X_test, y_train, y_test = train_test_split(X, y, test_size=0.2, shuffle=True, random_state=1234)"
   ]
  },
  {
   "cell_type": "code",
   "execution_count": 17,
   "metadata": {},
   "outputs": [
    {
     "data": {
      "text/plain": [
       "Index(['Class'], dtype='object')"
      ]
     },
     "execution_count": 17,
     "metadata": {},
     "output_type": "execute_result"
    }
   ],
   "source": [
    "y_train.columns"
   ]
  },
  {
   "cell_type": "code",
   "execution_count": 18,
   "metadata": {},
   "outputs": [
    {
     "data": {
      "text/plain": [
       "Index(['Class'], dtype='object')"
      ]
     },
     "execution_count": 18,
     "metadata": {},
     "output_type": "execute_result"
    }
   ],
   "source": [
    "y_test.columns"
   ]
  },
  {
   "cell_type": "code",
   "execution_count": 19,
   "metadata": {},
   "outputs": [
    {
     "data": {
      "text/plain": [
       "Class    98\n",
       "dtype: int64"
      ]
     },
     "execution_count": 19,
     "metadata": {},
     "output_type": "execute_result"
    }
   ],
   "source": [
    "# Check if y_test contains any fraudulent cases\n",
    "y_test.loc[y_test['Class'] == 1].sum()"
   ]
  },
  {
   "cell_type": "code",
   "execution_count": 58,
   "metadata": {},
   "outputs": [
    {
     "name": "stdout",
     "output_type": "stream",
     "text": [
      "X_train size:  227845\n",
      "X_test size:  56962\n",
      "y_train size:  227845\n",
      "y_test size: 56962\n",
      "X_train oversampled size: 454902\n",
      "y_train oversampled size: 454902\n",
      "X_train undersampled size: 788\n",
      "y_train undersampled size: 788\n"
     ]
    }
   ],
   "source": [
    "training_data = []\n",
    "\n",
    "print(\"X_train size: \", X_train.shape[0])\n",
    "print(\"X_test size: \",X_test.shape[0])\n",
    "print(\"y_train size: \",y_train.shape[0])\n",
    "print(\"y_test size:\", y_test.shape[0])\n",
    "# training_data.append((X_train.values, y_train.values))\n",
    "\n",
    "X_train_oversampled, y_train_oversampled = SMOTE(random_state=1234).fit_sample(X_train, y_train)\n",
    "print(\"X_train oversampled size:\", len(X_train_oversampled))\n",
    "print(\"y_train oversampled size:\", len(y_train_oversampled))\n",
    "# training_data.append((X_train_oversampled, y_train_oversampled))\n",
    "\n",
    "\n",
    "X_train_undersampled, y_train_undersampled = RandomUnderSampler(random_state=1234).fit_sample(X_train, y_train)\n",
    "print(\"X_train undersampled size:\", len(X_train_undersampled))\n",
    "print(\"y_train undersampled size:\", len(y_train_undersampled))\n",
    "training_data.append((X_train_undersampled, y_train_undersampled))"
   ]
  },
  {
   "cell_type": "markdown",
   "metadata": {},
   "source": [
    "Notice that the size doubled when using oversampling technique than normal X_train and y_train which increase training time for the model.\n",
    "\n",
    "Thus, we will use undersampled for training only since its smaller and its closer to the actual data with equal distribution of Fraud and non-fraud observations."
   ]
  },
  {
   "cell_type": "markdown",
   "metadata": {},
   "source": [
    "##### Evaluation Functions"
   ]
  },
  {
   "cell_type": "code",
   "execution_count": 21,
   "metadata": {},
   "outputs": [],
   "source": [
    "from sklearn.metrics import roc_auc_score, auc, accuracy_score, confusion_matrix, roc_curve, precision_score, recall_score, f1_score, auc, precision_recall_curve, classification_report"
   ]
  },
  {
   "cell_type": "code",
   "execution_count": 60,
   "metadata": {},
   "outputs": [],
   "source": [
    "def evaluateClassifier(model, X_test, y_test, printLines = True):\n",
    "    \n",
    "    y_pred = model.predict(X_test.values)\n",
    "    \n",
    "    accuracy = accuracy_score(y_test, y_pred)\n",
    "\n",
    "    auc = roc_auc_score(y_test, y_pred)\n",
    " \n",
    "    cm = confusion_matrix(y_test, y_pred, labels=[1, 0])\n",
    "    cm = pd.DataFrame(\n",
    "        cm, \n",
    "        index=['True: Fraudulent', 'True: Not Fraudulent'], \n",
    "        columns=['Pred: Fraudulent', 'Pred: Not Fraudulent']\n",
    "    )\n",
    "    \n",
    "\n",
    "    precision = precision_score(y_test, y_pred)\n",
    "\n",
    "    # recall\n",
    "    recall = recall_score(y_test, y_pred)\n",
    "\n",
    "\n",
    "    # recall\n",
    "    f1 = f1_score(y_test, y_pred, labels=['Survived'])\n",
    "   \n",
    "    \n",
    "    if printLines:\n",
    "        print(\"Model Accuracy on Test is {:.3f}\".format(accuracy))\n",
    "        print(\"Model AUC on Test is {:.3f} \\n\".format(auc))\n",
    "        print(cm)\n",
    "        print(\"\\nThe precision of the classifier is {:.2%}\".format(precision))\n",
    "        print(\"\\nThe recall of the classifier is {:.2%}\".format(recall))\n",
    "        print(\"\\nThe f1 score of the classifier is {:.2%}\\n\".format(f1)) \n",
    "        \n",
    "    return auc, cm, precision, recall, f1"
   ]
  },
  {
   "cell_type": "code",
   "execution_count": 90,
   "metadata": {},
   "outputs": [],
   "source": [
    "def drawROC(estimator, X_test, y_test):\n",
    "    y_prob = estimator.predict_proba(X_test) [:,1]\n",
    "    fpr, tpr, threshold = roc_curve(y_test, y_prob)\n",
    "    \n",
    "\n",
    "    plt.title('Receiver Operating Characteristic')\n",
    "    plt.plot(fpr, tpr, 'b')\n",
    "#     , label = 'AUC = %0.2f' % auc(fpr, tpr))\n",
    "    plt.legend(loc = 'lower right')\n",
    "    plt.plot([0, 1], [0, 1],'r--')\n",
    "    plt.xlim([0, 1])\n",
    "    plt.ylim([0, 1])\n",
    "    plt.ylabel('True Positive Rate: Sensitivity')\n",
    "    plt.xlabel('False Positive Rate: (1-Specificity)')\n",
    "    plt.show()\n"
   ]
  },
  {
   "cell_type": "code",
   "execution_count": 24,
   "metadata": {},
   "outputs": [],
   "source": [
    "def drawPrecisionRecallCurve(estimator, X_test, y_test):\n",
    "    y_prob = estimator.predict_proba(X_test) [:,1]\n",
    "    precision, recall, _ = precision_recall_curve(y_test, y_prob)\n",
    "    plt.plot(recall, precision, lw=2, label='Survived')\n",
    "\n",
    "    plt.xlabel(\"Recall\")\n",
    "    plt.ylabel(\"Precision\")\n",
    "    plt.legend(loc=\"best\")\n",
    "    plt.title(\"Precision vs. Recall Curve\")\n",
    "    plt.show()"
   ]
  },
  {
   "cell_type": "markdown",
   "metadata": {},
   "source": [
    "##### Model Building"
   ]
  },
  {
   "cell_type": "code",
   "execution_count": 29,
   "metadata": {},
   "outputs": [],
   "source": [
    "from sklearn.pipeline import Pipeline\n",
    "from sklearn.model_selection import GridSearchCV, RandomizedSearchCV"
   ]
  },
  {
   "cell_type": "code",
   "execution_count": 45,
   "metadata": {},
   "outputs": [],
   "source": [
    "estimators = []\n",
    "hyperparams = []"
   ]
  },
  {
   "cell_type": "code",
   "execution_count": 46,
   "metadata": {},
   "outputs": [],
   "source": [
    "import xgboost as xgb\n",
    "\n",
    "xgb = Pipeline([('xgb', xgb.XGBClassifier())])\n",
    "\n",
    "xgb_params = {\n",
    "            'xgb__objective' : ['binary:logistic'],\n",
    "            'xgb__max_depth': [5, 10, 25],\n",
    "            'xgb__n_estimators': [10, 25, 40, 65, 100], \n",
    "            'xgb__seed': [1234]\n",
    "          }\n",
    "\n",
    "estimators.append(xgb)\n",
    "hyperparams.append(xgb_params)"
   ]
  },
  {
   "cell_type": "code",
   "execution_count": 47,
   "metadata": {},
   "outputs": [],
   "source": [
    "from sklearn.linear_model import LogisticRegression\n",
    "\n",
    "lr = LogisticRegression(random_state=1234)\n",
    "\n",
    "lr_params = {\n",
    "              'C': [0.5, 1],\n",
    "              'solver': ['newton-cg', 'sag', 'lbfgs'],\n",
    "              'max_iter': [100, 200, 300],\n",
    "              'random_state': [1234]\n",
    "             }\n",
    "\n",
    "estimators.append(lr)\n",
    "hyperparams.append(lr_params)"
   ]
  },
  {
   "cell_type": "code",
   "execution_count": 49,
   "metadata": {},
   "outputs": [],
   "source": [
    "from sklearn.tree import DecisionTreeClassifier\n",
    "\n",
    "dtc = DecisionTreeClassifier()\n",
    "\n",
    "dtc_params = {          \n",
    "              'criterion': ['gini', 'entropy'], \n",
    "              'max_depth': [5, 7, 10], \n",
    "              'min_samples_split': [2, 4, 6],\n",
    "              'min_samples_leaf': [1, 3, 5],\n",
    "              'random_state': [1234]\n",
    "             }\n",
    "estimators.append(dtc)\n",
    "hyperparams.append(dtc_params)"
   ]
  },
  {
   "cell_type": "markdown",
   "metadata": {},
   "source": [
    "#### Model Evaluation"
   ]
  },
  {
   "cell_type": "code",
   "execution_count": 74,
   "metadata": {},
   "outputs": [],
   "source": [
    "# evaluation = {\n",
    "# #               'estimators': [],\n",
    "#               'train_auc': [],\n",
    "#               'test_auc': [],\n",
    "# #               'confusion_matrix': [],\n",
    "#               'precision': [],\n",
    "#               'recall': [],\n",
    "#               'f1':[]\n",
    "#              }\n",
    "\n",
    "\n",
    "# X = df[df.columns[:-1]]\n",
    "# y = df[['Class']]\n",
    "\n",
    "# for idx, est in enumerate(estimators):\n",
    "#     estimator = GridSearchCV(est, hyperparams[idx], scoring='roc_auc', cv=5)\n",
    "    \n",
    "#     mean_performance = {'train_auc': [],\n",
    "#               'test_auc': [],\n",
    "#               'confusion_matrix': [],\n",
    "#               'precision': [],\n",
    "#               'recall': [],\n",
    "#               'f1':[]\n",
    "#              }\n",
    "    \n",
    "#     kf = KFold(n_splits=5)\n",
    "    \n",
    "#     for train_index, test_index in kf.split(X):\n",
    "#         X_train_undersampled, y_train_undersampled = RandomUnderSampler(random_state=1234).fit_sample(X.iloc[train_index], y.iloc[train_index])\n",
    "# #         print(\"X_train undersampled size:\", len(X_train_undersampled))\n",
    "# #         print(\"y_train undersampled size:\", len(y_train_undersampled))\n",
    "\n",
    "#         estimator.fit(X_train_undersampled, y_train_undersampled)\n",
    "        \n",
    "# #         evaluation['estimators'].append(estimator)\n",
    "\n",
    "# #         print(\"\\nEstimator {} Best Hyperparams: \\n{}\\n\".format(idx+1, estimator.best_params_))\n",
    "# #         print(\"Estimator {} Best Training Score: {}\".format(idx+1, estimator.best_score_))\n",
    "\n",
    "#         auc, cm, precision, recall, f1 = evaluateClassifier(estimator.best_estimator_, X.iloc[test_index], y.iloc[test_index], printLines = False)\n",
    "#         mean_performance['train_auc'].append(estimator.best_score_)\n",
    "#         mean_performance['test_auc'].append(auc)\n",
    "#         mean_performance['confusion_matrix'].append(confusion_matrix)\n",
    "#         mean_performance['precision'].append(precision)\n",
    "#         mean_performance['recall'].append(recall)\n",
    "#         mean_performance['f1'].append(f1)\n",
    "    \n",
    "#     evaluation['train_auc'].append(np.mean(mean_performance['train_auc']))\n",
    "#     evaluation['test_auc'].append(np.mean(mean_performance['train_auc']))\n",
    "# #     evaluation['confusion_matrix'].append(confusion_matrix)\n",
    "#     evaluation['precision'].append(np.mean(mean_performance['precision']))\n",
    "#     evaluation['recall'].append(np.mean(mean_performance['recall']))\n",
    "#     evaluation['f1'].append(np.mean(mean_performance['f1']))"
   ]
  },
  {
   "cell_type": "code",
   "execution_count": 72,
   "metadata": {},
   "outputs": [
    {
     "data": {
      "text/html": [
       "<div>\n",
       "<style scoped>\n",
       "    .dataframe tbody tr th:only-of-type {\n",
       "        vertical-align: middle;\n",
       "    }\n",
       "\n",
       "    .dataframe tbody tr th {\n",
       "        vertical-align: top;\n",
       "    }\n",
       "\n",
       "    .dataframe thead th {\n",
       "        text-align: right;\n",
       "    }\n",
       "</style>\n",
       "<table border=\"1\" class=\"dataframe\">\n",
       "  <thead>\n",
       "    <tr style=\"text-align: right;\">\n",
       "      <th></th>\n",
       "      <th>train_auc</th>\n",
       "      <th>test_auc</th>\n",
       "      <th>precision</th>\n",
       "      <th>recall</th>\n",
       "      <th>f1</th>\n",
       "    </tr>\n",
       "  </thead>\n",
       "  <tbody>\n",
       "    <tr>\n",
       "      <th>0</th>\n",
       "      <td>0.971433</td>\n",
       "      <td>0.971433</td>\n",
       "      <td>0.041207</td>\n",
       "      <td>0.912878</td>\n",
       "      <td>0.078276</td>\n",
       "    </tr>\n",
       "    <tr>\n",
       "      <th>1</th>\n",
       "      <td>0.969486</td>\n",
       "      <td>0.969486</td>\n",
       "      <td>0.054688</td>\n",
       "      <td>0.905485</td>\n",
       "      <td>0.097396</td>\n",
       "    </tr>\n",
       "    <tr>\n",
       "      <th>2</th>\n",
       "      <td>0.941402</td>\n",
       "      <td>0.941402</td>\n",
       "      <td>0.020136</td>\n",
       "      <td>0.876693</td>\n",
       "      <td>0.039176</td>\n",
       "    </tr>\n",
       "  </tbody>\n",
       "</table>\n",
       "</div>"
      ],
      "text/plain": [
       "   train_auc  test_auc  precision    recall        f1\n",
       "0   0.971433  0.971433   0.041207  0.912878  0.078276\n",
       "1   0.969486  0.969486   0.054688  0.905485  0.097396\n",
       "2   0.941402  0.941402   0.020136  0.876693  0.039176"
      ]
     },
     "execution_count": 72,
     "metadata": {},
     "output_type": "execute_result"
    }
   ],
   "source": [
    "# performances = pd.DataFrame(evaluation)\n",
    "# performances"
   ]
  },
  {
   "cell_type": "code",
   "execution_count": 77,
   "metadata": {},
   "outputs": [
    {
     "name": "stdout",
     "output_type": "stream",
     "text": [
      "GridSearch Done\n",
      "Estimator Trained Done\n",
      "\n",
      "Estimator 1 Best Hyperparams: \n",
      "{'xgb__max_depth': 5, 'xgb__n_estimators': 65, 'xgb__objective': 'binary:logistic', 'xgb__seed': 1234}\n",
      "\n",
      "Estimator 1 Best Training Score: 0.9801999976934115\n",
      "Model Accuracy on Test is 0.962\n",
      "Model AUC on Test is 0.945 \n",
      "\n",
      "                      Pred: Fraudulent  Pred: Not Fraudulent\n",
      "True: Fraudulent                    91                     7\n",
      "True: Not Fraudulent              2180                 54684\n",
      "\n",
      "The precision of the classifier is 4.01%\n",
      "\n",
      "The recall of the classifier is 92.86%\n",
      "\n",
      "The f1 score of the classifier is 7.68%\n",
      "\n",
      "GridSearch Done\n",
      "Estimator Trained Done\n",
      "\n",
      "Estimator 2 Best Hyperparams: \n",
      "{'C': 1, 'max_iter': 100, 'random_state': 1234, 'solver': 'newton-cg'}\n",
      "\n",
      "Estimator 2 Best Training Score: 0.9765634138826967\n",
      "Model Accuracy on Test is 0.963\n",
      "Model AUC on Test is 0.951 \n",
      "\n",
      "                      Pred: Fraudulent  Pred: Not Fraudulent\n",
      "True: Fraudulent                    92                     6\n",
      "True: Not Fraudulent              2090                 54774\n",
      "\n",
      "The precision of the classifier is 4.22%\n",
      "\n",
      "The recall of the classifier is 93.88%\n",
      "\n",
      "The f1 score of the classifier is 8.07%\n",
      "\n",
      "GridSearch Done\n",
      "Estimator Trained Done\n",
      "\n",
      "Estimator 3 Best Hyperparams: \n",
      "{'criterion': 'gini', 'max_depth': 10, 'min_samples_leaf': 5, 'min_samples_split': 2, 'random_state': 1234}\n",
      "\n",
      "Estimator 3 Best Training Score: 0.9516174539547283\n",
      "Model Accuracy on Test is 0.931\n",
      "Model AUC on Test is 0.930 \n",
      "\n",
      "                      Pred: Fraudulent  Pred: Not Fraudulent\n",
      "True: Fraudulent                    91                     7\n",
      "True: Not Fraudulent              3912                 52952\n",
      "\n",
      "The precision of the classifier is 2.27%\n",
      "\n",
      "The recall of the classifier is 92.86%\n",
      "\n",
      "The f1 score of the classifier is 4.44%\n",
      "\n"
     ]
    }
   ],
   "source": [
    "from sklearn.model_selection import GridSearchCV\n",
    "\n",
    "evaluation = {'estimators': [],\n",
    "              'train_auc': [],\n",
    "              'test_auc': [],\n",
    "              'confusion_matrix': [],\n",
    "              'precision': [],\n",
    "              'recall': [],\n",
    "              'f1':[]\n",
    "             }\n",
    "\n",
    "for idx, est in enumerate(estimators):\n",
    "    estimator = GridSearchCV(est, hyperparams[idx], scoring='roc_auc', cv=5)\n",
    "    print(\"GridSearch Done\")\n",
    "    \n",
    "    for train in training_data: \n",
    "        estimator.fit(train[0], train[1])\n",
    "        print(\"Estimator Trained Done\")\n",
    "        evaluation['estimators'].append(estimator)\n",
    "\n",
    "        print(\"\\nEstimator {} Best Hyperparams: \\n{}\\n\".format(idx+1, estimator.best_params_))\n",
    "        print(\"Estimator {} Best Training Score: {}\".format(idx+1, estimator.best_score_))\n",
    "        auc, cm, precision, recall, f1 = evaluateClassifier(estimator.best_estimator_, X_test, y_test)\n",
    "        evaluation['train_auc'].append(estimator.best_score_)\n",
    "        evaluation['test_auc'].append(auc)\n",
    "        evaluation['confusion_matrix'].append(confusion_matrix)\n",
    "        evaluation['precision'].append(precision)\n",
    "        evaluation['recall'].append(recall)\n",
    "        evaluation['f1'].append(f1)"
   ]
  },
  {
   "cell_type": "code",
   "execution_count": 78,
   "metadata": {},
   "outputs": [
    {
     "data": {
      "text/html": [
       "<div>\n",
       "<style scoped>\n",
       "    .dataframe tbody tr th:only-of-type {\n",
       "        vertical-align: middle;\n",
       "    }\n",
       "\n",
       "    .dataframe tbody tr th {\n",
       "        vertical-align: top;\n",
       "    }\n",
       "\n",
       "    .dataframe thead th {\n",
       "        text-align: right;\n",
       "    }\n",
       "</style>\n",
       "<table border=\"1\" class=\"dataframe\">\n",
       "  <thead>\n",
       "    <tr style=\"text-align: right;\">\n",
       "      <th></th>\n",
       "      <th>estimators</th>\n",
       "      <th>train_auc</th>\n",
       "      <th>test_auc</th>\n",
       "      <th>confusion_matrix</th>\n",
       "      <th>precision</th>\n",
       "      <th>recall</th>\n",
       "      <th>f1</th>\n",
       "    </tr>\n",
       "  </thead>\n",
       "  <tbody>\n",
       "    <tr>\n",
       "      <th>0</th>\n",
       "      <td>GridSearchCV(cv=5, error_score='raise-deprecat...</td>\n",
       "      <td>0.980200</td>\n",
       "      <td>0.945117</td>\n",
       "      <td>&lt;function confusion_matrix at 0x1a20674680&gt;</td>\n",
       "      <td>0.040070</td>\n",
       "      <td>0.928571</td>\n",
       "      <td>0.076826</td>\n",
       "    </tr>\n",
       "    <tr>\n",
       "      <th>1</th>\n",
       "      <td>GridSearchCV(cv=5, error_score='raise-deprecat...</td>\n",
       "      <td>0.976563</td>\n",
       "      <td>0.951011</td>\n",
       "      <td>&lt;function confusion_matrix at 0x1a20674680&gt;</td>\n",
       "      <td>0.042163</td>\n",
       "      <td>0.938776</td>\n",
       "      <td>0.080702</td>\n",
       "    </tr>\n",
       "    <tr>\n",
       "      <th>2</th>\n",
       "      <td>GridSearchCV(cv=5, error_score='raise-deprecat...</td>\n",
       "      <td>0.951617</td>\n",
       "      <td>0.929888</td>\n",
       "      <td>&lt;function confusion_matrix at 0x1a20674680&gt;</td>\n",
       "      <td>0.022733</td>\n",
       "      <td>0.928571</td>\n",
       "      <td>0.044379</td>\n",
       "    </tr>\n",
       "  </tbody>\n",
       "</table>\n",
       "</div>"
      ],
      "text/plain": [
       "                                          estimators  train_auc  test_auc  \\\n",
       "0  GridSearchCV(cv=5, error_score='raise-deprecat...   0.980200  0.945117   \n",
       "1  GridSearchCV(cv=5, error_score='raise-deprecat...   0.976563  0.951011   \n",
       "2  GridSearchCV(cv=5, error_score='raise-deprecat...   0.951617  0.929888   \n",
       "\n",
       "                              confusion_matrix  precision    recall        f1  \n",
       "0  <function confusion_matrix at 0x1a20674680>   0.040070  0.928571  0.076826  \n",
       "1  <function confusion_matrix at 0x1a20674680>   0.042163  0.938776  0.080702  \n",
       "2  <function confusion_matrix at 0x1a20674680>   0.022733  0.928571  0.044379  "
      ]
     },
     "execution_count": 78,
     "metadata": {},
     "output_type": "execute_result"
    }
   ],
   "source": [
    "performances = pd.DataFrame(evaluation)\n",
    "performances"
   ]
  },
  {
   "cell_type": "markdown",
   "metadata": {},
   "source": [
    "#### Results and Analysis"
   ]
  },
  {
   "cell_type": "markdown",
   "metadata": {},
   "source": [
    "|Model|Test AUC|Precision|Recall| F1-Score|\n",
    "|-----|--------|---------|------|--------|\n",
    "| Xgboost| 0.945 | 4.00% | 92.85% | 7.68% |\n",
    "| Logistic Regression| 0.951 | 4.21% | 93.87% | 8.07% |\n",
    "| Decision Tree Classifier | 0.929 | 2.27% | 92.85% | 4.43% |\n",
    "\n",
    "\n",
    "Logistic Regression has the overall best performance of Test AUC of 0.951 using undersampled data"
   ]
  },
  {
   "cell_type": "markdown",
   "metadata": {},
   "source": [
    "##### Intepretation of the Best Classifier\n",
    "Based on precision, each prediction of either \"Fraudulent\", or \"Not Fraudulent\" would be realised truely about 4.21% of the time.\n",
    "\n",
    "Based on recall, each prediction of \"Fraudulent\" has about 93.87% being correct.\n",
    "\n",
    "Based on f1 score of the \"Fraudulent\", the weighted average of the precision and recall is 8.07%"
   ]
  },
  {
   "cell_type": "markdown",
   "metadata": {},
   "source": [
    "##### Confusion Matrix of the Logistic Regression model:\n",
    "\n",
    "| |Pred: Fraudulent  | Pred: Not Fraudulent|\n",
    "|-------|-------|-------|\n",
    "|True: Fraudulent  |  92  | 6|\n",
    "|True: Not Fraudulent |2090  |54774|"
   ]
  },
  {
   "cell_type": "code",
   "execution_count": 91,
   "metadata": {},
   "outputs": [
    {
     "name": "stderr",
     "output_type": "stream",
     "text": [
      "No handles with labels found to put in legend.\n"
     ]
    },
    {
     "data": {
      "image/png": "[encoded data removed]",
      "text/plain": [
       "<Figure size 432x288 with 1 Axes>"
      ]
     },
     "metadata": {
      "needs_background": "light"
     },
     "output_type": "display_data"
    }
   ],
   "source": [
    "drawROC(performances['estimators'][1], X_test.values, y_test.values)\n"
   ]
  },
  {
   "cell_type": "code",
   "execution_count": 92,
   "metadata": {},
   "outputs": [
    {
     "data": {
      "image/png": "[encoded data removed]",
      "text/plain": [
       "<Figure size 432x288 with 1 Axes>"
      ]
     },
     "metadata": {
      "needs_background": "light"
     },
     "output_type": "display_data"
    }
   ],
   "source": [
    "drawPrecisionRecallCurve(performances['estimators'][1], X_test.values, y_test.values)"
   ]
  },
  {
   "cell_type": "markdown",
   "metadata": {},
   "source": [
    "#### Limitations and Future Works\n"
   ]
  },
  {
   "cell_type": "code",
   "execution_count": null,
   "metadata": {},
   "outputs": [],
   "source": []
  }
 ],
 "metadata": {
  "kernelspec": {
   "display_name": "Python 3",
   "language": "python",
   "name": "python3"
  },
  "language_info": {
   "codemirror_mode": {
    "name": "ipython",
    "version": 3
   },
   "file_extension": ".py",
   "mimetype": "text/x-python",
   "name": "python",
   "nbconvert_exporter": "python",
   "pygments_lexer": "ipython3",
   "version": "3.7.5"
  }
 },
 "nbformat": 4,
 "nbformat_minor": 2
}
